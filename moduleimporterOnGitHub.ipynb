{
 "cells": [
  {
   "cell_type": "markdown",
   "id": "fccaeabf",
   "metadata": {},
   "source": [
    " - https://blanktar.jp/blog/2013/05/python-import-from-web\n",
    " - https://hibiki-press.tech/python/tempfile-md/2829"
   ]
  },
  {
   "cell_type": "code",
   "execution_count": 2,
   "id": "43f6eee2",
   "metadata": {},
   "outputs": [],
   "source": [
    "import os\n",
    "import tempfile\n",
    "import urllib.request"
   ]
  },
  {
   "cell_type": "code",
   "execution_count": 3,
   "id": "7c644266-9d82-423c-a718-e2f59a2e9f53",
   "metadata": {},
   "outputs": [],
   "source": [
    "def moduleimporterOnGitHub(url, cache=False, tmpfilename=None):\n",
    "    # read raw data(binary) On Github\n",
    "    with urllib.request.urlopen(url) as f: l = f.read() #.decode(encoding)  \n",
    "\n",
    "    # file open & write data\n",
    "    if tmpfilename is None:\n",
    "        with tempfile.NamedTemporaryFile(delete=False, suffix='.py', dir='.') as fp:\n",
    "            fp.write(l)\n",
    "        name = fp.name\n",
    "    else:\n",
    "        with open(tmpfilename, mode='wb') as f:\n",
    "            f.write(l)\n",
    "        name = tmpfilename\n",
    "        \n",
    "    # import \n",
    "    imp = __import__(os.path.basename(name)[:-3])\n",
    "    \n",
    "    # delete tmpfile\n",
    "    if not cache : os.remove(name)\n",
    "        \n",
    "    return imp"
   ]
  },
  {
   "cell_type": "code",
   "execution_count": 11,
   "id": "39457c6e-96d5-45f6-ae3f-ce415a114c69",
   "metadata": {},
   "outputs": [
    {
     "name": "stdout",
     "output_type": "stream",
     "text": [
      "Hello, world!\n"
     ]
    }
   ],
   "source": [
    "url = 'https://raw.githubusercontent.com/computational-sediment-hyd/moduleimporterOnGitHub/main/tmp.py'\n",
    "m = moduleimporterOnGitHub(url, cache=False, tmpfilename=None)\n",
    "m.message()"
   ]
  },
  {
   "cell_type": "code",
   "execution_count": null,
   "id": "b53f07b5-f2e6-4fca-b34c-162ecffd61ce",
   "metadata": {},
   "outputs": [],
   "source": []
  },
  {
   "cell_type": "code",
   "execution_count": 1,
   "id": "208d71a7-d6d1-4ccd-9427-a027e774a15f",
   "metadata": {},
   "outputs": [
    {
     "name": "stdout",
     "output_type": "stream",
     "text": [
      "Hello, world!\n"
     ]
    }
   ],
   "source": [
    "import moduleimporterOnGitHub as mod\n",
    "\n",
    "url = 'https://raw.githubusercontent.com/computational-sediment-hyd/moduleimporterOnGitHub/main/tmp.py'\n",
    "m = mod.moduleimporterOnGitHub(url, cache=False, tmpfilename=None)\n",
    "m.message()"
   ]
  }
 ],
 "metadata": {
  "kernelspec": {
   "display_name": "Python 3 (ipykernel)",
   "language": "python",
   "name": "python3"
  },
  "language_info": {
   "codemirror_mode": {
    "name": "ipython",
    "version": 3
   },
   "file_extension": ".py",
   "mimetype": "text/x-python",
   "name": "python",
   "nbconvert_exporter": "python",
   "pygments_lexer": "ipython3",
   "version": "3.12.3"
  },
  "toc": {
   "base_numbering": 1,
   "nav_menu": {},
   "number_sections": true,
   "sideBar": true,
   "skip_h1_title": false,
   "title_cell": "Table of Contents",
   "title_sidebar": "Contents",
   "toc_cell": false,
   "toc_position": {},
   "toc_section_display": true,
   "toc_window_display": false
  }
 },
 "nbformat": 4,
 "nbformat_minor": 5
}
